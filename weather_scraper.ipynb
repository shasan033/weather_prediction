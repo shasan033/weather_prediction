{
 "cells": [
  {
   "cell_type": "markdown",
   "metadata": {},
   "source": [
    "# Features to add\n",
    "- Parallelization to speed up scraping\n",
    "- More intelligence for repeated municipal data\n",
    "- Add documentation\n",
    "- change .items() to .values() for pd csv read cell"
   ]
  },
  {
   "cell_type": "code",
   "execution_count": 69,
   "metadata": {},
   "outputs": [],
   "source": [
    "import requests\n",
    "from bs4 import BeautifulSoup\n",
    "from datetime import datetime\n",
    "import pandas as pd"
   ]
  },
  {
   "cell_type": "code",
   "execution_count": 70,
   "metadata": {},
   "outputs": [],
   "source": [
    "# getting the current day for url\n",
    "today = datetime.now()\n",
    "day_of_month = today.day\n",
    "month = today.month\n",
    "year = today.year"
   ]
  },
  {
   "cell_type": "code",
   "execution_count": 71,
   "metadata": {},
   "outputs": [],
   "source": [
    "URL = f\"https://climate.weather.gc.ca/historical_data/search_historic_data_stations_e.html?searchType=stnProv&timeframe=1&lstProvince=&optLimit=yearRange&StartYear=1840&EndYear=2022&Year={year}&Month={month}&Day={day_of_month}&selRowPerPage=100\"\n",
    "headers = {'User-Agent': \"Mozilla/5.0 (Macintosh; Intel Mac OS X 10_15_3) AppleWebKit/537.36 (KHTML, like Gecko) Chrome/99.0.4844.84 Safari/537.36\"}\n",
    "municipal_urls = {}\n",
    "chosen_provinces = ['BC']"
   ]
  },
  {
   "cell_type": "code",
   "execution_count": 72,
   "metadata": {},
   "outputs": [
    {
     "data": {
      "text/plain": [
       "'https://climate.weather.gc.ca/historical_data/search_historic_data_stations_e.html?searchType=stnProv&timeframe=1&lstProvince=&optLimit=yearRange&StartYear=1840&EndYear=2022&Year=2022&Month=7&Day=7&selRowPerPage=100'"
      ]
     },
     "execution_count": 72,
     "metadata": {},
     "output_type": "execute_result"
    }
   ],
   "source": [
    "URL"
   ]
  },
  {
   "cell_type": "code",
   "execution_count": 73,
   "metadata": {},
   "outputs": [],
   "source": [
    "r = requests.get(URL, headers=headers)\n",
    "soup = BeautifulSoup(r.content)"
   ]
  },
  {
   "cell_type": "code",
   "execution_count": 74,
   "metadata": {},
   "outputs": [],
   "source": [
    "# getting next button\n",
    "def is_last_page(soup, page):\n",
    "    button_row = soup.find('div', {'class': 'pull-left'}).findAll('li')\n",
    "    if button_row[-1].find('a')['href'] == '':\n",
    "        last_button_num = int(button_row[-2].find('a').text)\n",
    "        return (last_button_num - 1) * 100 + 1 == (page - 1) * 100 + 1\n",
    "    else:\n",
    "        return False"
   ]
  },
  {
   "cell_type": "code",
   "execution_count": 75,
   "metadata": {},
   "outputs": [],
   "source": [
    "def get_page_links(soup, start_index):\n",
    "    for i, municipality in enumerate(soup.find('div', {'class': 'historical-data-results'}).findAll('form')):\n",
    "        hlyRange = municipality.find('input', {'name': 'hlyRange'})['value']\n",
    "        dlyRange = municipality.find('input', {'name': 'dlyRange'})['value']\n",
    "        mlyRange = municipality.find('input', {'name': 'mlyRange'})['value']\n",
    "        station_id = municipality.find('input', {'name': 'StationID'})['value']\n",
    "        prov = municipality.find('input', {'name': 'Prov'})['value']\n",
    "        mun_name = municipality.find('div', {'class': 'col-lg-3'}).text\n",
    "        search_year = municipality.find('select', {'id': f'Year{i + start_index}'}).findAll('option')[-1]['value']\n",
    "        search_month = municipality.find('select', {'id': f'Month{i + start_index}'}).findAll('option')[-1]['value']\n",
    "        temp_url = f\"https://climate.weather.gc.ca/climate_data/daily_data_e.html?timeframe=2&Year={search_year}&Month={search_month}&Day={day_of_month}&hlyRange={hlyRange}&dlyRange={dlyRange}&mlyRange={mlyRange}&StationID={station_id}&Prov={prov}&urlExtension=_e.html&searchType=stnProv&optLimit=yearRange&StartYear=1840&EndYear={year}&selRowPerPage=100&Line=0&lstProvince=\"\n",
    "        if mun_name:\n",
    "            municipal_urls[mun_name] = {'url': temp_url, 'id': station_id, 'prov': prov, 'year': search_year, 'month': search_month}"
   ]
  },
  {
   "cell_type": "code",
   "execution_count": 78,
   "metadata": {},
   "outputs": [
    {
     "name": "stdout",
     "output_type": "stream",
     "text": [
      "88\n"
     ]
    }
   ],
   "source": [
    "base_url = f\"https://climate.weather.gc.ca/historical_data/search_historic_data_stations_e.html?searchType=stnProv&timeframe=1&lstProvince=&optLimit=yearRange&StartYear=1840&EndYear=2022&Year=2022&Month=7&Day=4&selRowPerPage=100&txtCentralLatMin=0&txtCentralLatSec=0&txtCentralLongMin=0&txtCentralLongSec=0&startRow=\"\n",
    "page = 1\n",
    "while not is_last_page(soup, page):\n",
    "    print(page)\n",
    "    get_page_links(soup, (page - 1) * 100)\n",
    "    next_url = base_url + str((page) * 100 + 1)\n",
    "    r = requests.get(next_url)\n",
    "    soup = BeautifulSoup(r.content)\n",
    "    page += 1\n",
    "get_page_links(soup, (page - 1) * 100)\n",
    "print(page)"
   ]
  },
  {
   "cell_type": "code",
   "execution_count": 87,
   "metadata": {},
   "outputs": [
    {
     "data": {
      "text/plain": [
       "{'url': 'https://climate.weather.gc.ca/climate_data/daily_data_e.html?timeframe=2&Year=1995&Month=6&Day=7&hlyRange=|&dlyRange=1957-09-01|1995-06-30&mlyRange=1957-01-01|1995-06-01&StationID=903&Prov=BC&urlExtension=_e.html&searchType=stnProv&optLimit=yearRange&StartYear=1840&EndYear=2022&selRowPerPage=100&Line=0&lstProvince=',\n",
       " 'id': '903',\n",
       " 'prov': 'BC',\n",
       " 'year': '1995',\n",
       " 'month': '6'}"
      ]
     },
     "execution_count": 87,
     "metadata": {},
     "output_type": "execute_result"
    }
   ],
   "source": [
    "municipal_urls['VANCOUVER UBC']"
   ]
  },
  {
   "cell_type": "markdown",
   "metadata": {},
   "source": [
    "https://climate.weather.gc.ca/climate_data/bulk_data_e.html?format=csv&stationID=10700&Year=2007&Month=11&Day=1&time=&timeframe=2&submit=Download+Data"
   ]
  },
  {
   "cell_type": "markdown",
   "metadata": {},
   "source": [
    "Note: takes ~18 min single thread"
   ]
  },
  {
   "cell_type": "code",
   "execution_count": 81,
   "metadata": {},
   "outputs": [],
   "source": [
    "list_of_data = []\n",
    "for name, info in municipal_urls.items():\n",
    "    if not len(chosen_provinces):\n",
    "        df = pd.read_csv(f\"https://climate.weather.gc.ca/climate_data/bulk_data_e.html?format=csv&stationID={info['id']}&Year={info['year']}&Month={info['month']}&Day=1&time=&timeframe=2&submit=Download+Data\")\n",
    "    else:\n",
    "        if info['prov'] in chosen_provinces:\n",
    "            df = pd.read_csv(f\"https://climate.weather.gc.ca/climate_data/bulk_data_e.html?format=csv&stationID={info['id']}&Year={info['year']}&Month={info['month']}&Day=1&time=&timeframe=2&submit=Download+Data\")\n",
    "            list_of_data.append(df)        "
   ]
  },
  {
   "cell_type": "code",
   "execution_count": 82,
   "metadata": {},
   "outputs": [],
   "source": [
    "final_df = pd.concat(list_of_data)"
   ]
  },
  {
   "cell_type": "code",
   "execution_count": 86,
   "metadata": {},
   "outputs": [],
   "source": [
    "final_df.to_csv('BC_weather_data.csv')"
   ]
  }
 ],
 "metadata": {
  "kernelspec": {
   "display_name": "Python 3.10.0 ('.venv': venv)",
   "language": "python",
   "name": "python3"
  },
  "language_info": {
   "codemirror_mode": {
    "name": "ipython",
    "version": 3
   },
   "file_extension": ".py",
   "mimetype": "text/x-python",
   "name": "python",
   "nbconvert_exporter": "python",
   "pygments_lexer": "ipython3",
   "version": "3.10.0"
  },
  "orig_nbformat": 4,
  "vscode": {
   "interpreter": {
    "hash": "8c06699b9360c123924967376b47382653d13c7ab787ae5282f144258fe56ea2"
   }
  }
 },
 "nbformat": 4,
 "nbformat_minor": 2
}
