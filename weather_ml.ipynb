{
 "cells": [
  {
   "cell_type": "markdown",
   "metadata": {},
   "source": [
    "### Imports"
   ]
  },
  {
   "cell_type": "code",
   "execution_count": 1,
   "metadata": {},
   "outputs": [],
   "source": [
    "import pandas as pd\n",
    "from sklearn.model_selection import train_test_split"
   ]
  },
  {
   "cell_type": "markdown",
   "metadata": {},
   "source": [
    "### Loading/splitting data and EDA"
   ]
  },
  {
   "cell_type": "code",
   "execution_count": 37,
   "metadata": {},
   "outputs": [
    {
     "name": "stderr",
     "output_type": "stream",
     "text": [
      "C:\\Users\\Serdar\\AppData\\Local\\Temp\\ipykernel_10452\\105469377.py:1: DtypeWarning: Columns (30) have mixed types. Specify dtype option on import or set low_memory=False.\n",
      "  df = pd.read_csv('BC_weather_data.csv', parse_dates=['Date/Time'])\n"
     ]
    }
   ],
   "source": [
    "df = pd.read_csv('BC_weather_data.csv', parse_dates=['Date/Time'])\n",
    "train_df, test_df = train_test_split(df, test_size=0.2, random_state=42)"
   ]
  },
  {
   "cell_type": "code",
   "execution_count": 38,
   "metadata": {},
   "outputs": [
    {
     "data": {
      "text/html": [
       "<div>\n",
       "<style scoped>\n",
       "    .dataframe tbody tr th:only-of-type {\n",
       "        vertical-align: middle;\n",
       "    }\n",
       "\n",
       "    .dataframe tbody tr th {\n",
       "        vertical-align: top;\n",
       "    }\n",
       "\n",
       "    .dataframe thead th {\n",
       "        text-align: right;\n",
       "    }\n",
       "</style>\n",
       "<table border=\"1\" class=\"dataframe\">\n",
       "  <thead>\n",
       "    <tr style=\"text-align: right;\">\n",
       "      <th></th>\n",
       "      <th>Unnamed: 0</th>\n",
       "      <th>Longitude (x)</th>\n",
       "      <th>Latitude (y)</th>\n",
       "      <th>Station Name</th>\n",
       "      <th>Climate ID</th>\n",
       "      <th>Date/Time</th>\n",
       "      <th>Year</th>\n",
       "      <th>Month</th>\n",
       "      <th>Day</th>\n",
       "      <th>Data Quality</th>\n",
       "      <th>...</th>\n",
       "      <th>Total Snow (cm)</th>\n",
       "      <th>Total Snow Flag</th>\n",
       "      <th>Total Precip (mm)</th>\n",
       "      <th>Total Precip Flag</th>\n",
       "      <th>Snow on Grnd (cm)</th>\n",
       "      <th>Snow on Grnd Flag</th>\n",
       "      <th>Dir of Max Gust (10s deg)</th>\n",
       "      <th>Dir of Max Gust Flag</th>\n",
       "      <th>Spd of Max Gust (km/h)</th>\n",
       "      <th>Spd of Max Gust Flag</th>\n",
       "    </tr>\n",
       "  </thead>\n",
       "  <tbody>\n",
       "    <tr>\n",
       "      <th>582890</th>\n",
       "      <td>351</td>\n",
       "      <td>-122.98</td>\n",
       "      <td>50.09</td>\n",
       "      <td>WHISTLER MOUNTAIN LOW LEVEL</td>\n",
       "      <td>1108988</td>\n",
       "      <td>2010-12-18</td>\n",
       "      <td>2010</td>\n",
       "      <td>12</td>\n",
       "      <td>18</td>\n",
       "      <td>NaN</td>\n",
       "      <td>...</td>\n",
       "      <td>NaN</td>\n",
       "      <td>NaN</td>\n",
       "      <td>NaN</td>\n",
       "      <td>NaN</td>\n",
       "      <td>NaN</td>\n",
       "      <td>NaN</td>\n",
       "      <td>NaN</td>\n",
       "      <td>NaN</td>\n",
       "      <td>NaN</td>\n",
       "      <td>NaN</td>\n",
       "    </tr>\n",
       "    <tr>\n",
       "      <th>189517</th>\n",
       "      <td>336</td>\n",
       "      <td>-118.42</td>\n",
       "      <td>51.63</td>\n",
       "      <td>GOLDSTREAM RIVER</td>\n",
       "      <td>1173242</td>\n",
       "      <td>2018-12-03</td>\n",
       "      <td>2018</td>\n",
       "      <td>12</td>\n",
       "      <td>3</td>\n",
       "      <td>NaN</td>\n",
       "      <td>...</td>\n",
       "      <td>NaN</td>\n",
       "      <td>NaN</td>\n",
       "      <td>NaN</td>\n",
       "      <td>NaN</td>\n",
       "      <td>NaN</td>\n",
       "      <td>NaN</td>\n",
       "      <td>NaN</td>\n",
       "      <td>NaN</td>\n",
       "      <td>NaN</td>\n",
       "      <td>NaN</td>\n",
       "    </tr>\n",
       "    <tr>\n",
       "      <th>519726</th>\n",
       "      <td>14</td>\n",
       "      <td>-124.52</td>\n",
       "      <td>49.70</td>\n",
       "      <td>TEXADA ISLAND A</td>\n",
       "      <td>1048140</td>\n",
       "      <td>1993-01-15</td>\n",
       "      <td>1993</td>\n",
       "      <td>1</td>\n",
       "      <td>15</td>\n",
       "      <td>NaN</td>\n",
       "      <td>...</td>\n",
       "      <td>0.0</td>\n",
       "      <td>NaN</td>\n",
       "      <td>0.0</td>\n",
       "      <td>NaN</td>\n",
       "      <td>10.0</td>\n",
       "      <td>NaN</td>\n",
       "      <td>NaN</td>\n",
       "      <td>NaN</td>\n",
       "      <td>NaN</td>\n",
       "      <td>NaN</td>\n",
       "    </tr>\n",
       "    <tr>\n",
       "      <th>206614</th>\n",
       "      <td>268</td>\n",
       "      <td>-120.18</td>\n",
       "      <td>50.92</td>\n",
       "      <td>HEFFLEY CREEK</td>\n",
       "      <td>1163400</td>\n",
       "      <td>1995-09-26</td>\n",
       "      <td>1995</td>\n",
       "      <td>9</td>\n",
       "      <td>26</td>\n",
       "      <td>NaN</td>\n",
       "      <td>...</td>\n",
       "      <td>0.0</td>\n",
       "      <td>NaN</td>\n",
       "      <td>0.0</td>\n",
       "      <td>NaN</td>\n",
       "      <td>0.0</td>\n",
       "      <td>NaN</td>\n",
       "      <td>NaN</td>\n",
       "      <td>NaN</td>\n",
       "      <td>NaN</td>\n",
       "      <td>NaN</td>\n",
       "    </tr>\n",
       "    <tr>\n",
       "      <th>215845</th>\n",
       "      <td>4</td>\n",
       "      <td>-120.48</td>\n",
       "      <td>51.20</td>\n",
       "      <td>HOOPATATKWA LAKE</td>\n",
       "      <td>1163530</td>\n",
       "      <td>1967-01-05</td>\n",
       "      <td>1967</td>\n",
       "      <td>1</td>\n",
       "      <td>5</td>\n",
       "      <td>NaN</td>\n",
       "      <td>...</td>\n",
       "      <td>NaN</td>\n",
       "      <td>NaN</td>\n",
       "      <td>NaN</td>\n",
       "      <td>NaN</td>\n",
       "      <td>NaN</td>\n",
       "      <td>NaN</td>\n",
       "      <td>NaN</td>\n",
       "      <td>NaN</td>\n",
       "      <td>NaN</td>\n",
       "      <td>NaN</td>\n",
       "    </tr>\n",
       "  </tbody>\n",
       "</table>\n",
       "<p>5 rows × 32 columns</p>\n",
       "</div>"
      ],
      "text/plain": [
       "        Unnamed: 0  Longitude (x)  Latitude (y)                 Station Name  \\\n",
       "582890         351        -122.98         50.09  WHISTLER MOUNTAIN LOW LEVEL   \n",
       "189517         336        -118.42         51.63             GOLDSTREAM RIVER   \n",
       "519726          14        -124.52         49.70              TEXADA ISLAND A   \n",
       "206614         268        -120.18         50.92                HEFFLEY CREEK   \n",
       "215845           4        -120.48         51.20             HOOPATATKWA LAKE   \n",
       "\n",
       "       Climate ID  Date/Time  Year  Month  Day Data Quality  ...  \\\n",
       "582890    1108988 2010-12-18  2010     12   18          NaN  ...   \n",
       "189517    1173242 2018-12-03  2018     12    3          NaN  ...   \n",
       "519726    1048140 1993-01-15  1993      1   15          NaN  ...   \n",
       "206614    1163400 1995-09-26  1995      9   26          NaN  ...   \n",
       "215845    1163530 1967-01-05  1967      1    5          NaN  ...   \n",
       "\n",
       "        Total Snow (cm) Total Snow Flag  Total Precip (mm) Total Precip Flag  \\\n",
       "582890              NaN             NaN                NaN               NaN   \n",
       "189517              NaN             NaN                NaN               NaN   \n",
       "519726              0.0             NaN                0.0               NaN   \n",
       "206614              0.0             NaN                0.0               NaN   \n",
       "215845              NaN             NaN                NaN               NaN   \n",
       "\n",
       "        Snow on Grnd (cm) Snow on Grnd Flag  Dir of Max Gust (10s deg)  \\\n",
       "582890                NaN               NaN                        NaN   \n",
       "189517                NaN               NaN                        NaN   \n",
       "519726               10.0               NaN                        NaN   \n",
       "206614                0.0               NaN                        NaN   \n",
       "215845                NaN               NaN                        NaN   \n",
       "\n",
       "       Dir of Max Gust Flag  Spd of Max Gust (km/h) Spd of Max Gust Flag  \n",
       "582890                  NaN                     NaN                  NaN  \n",
       "189517                  NaN                     NaN                  NaN  \n",
       "519726                  NaN                     NaN                  NaN  \n",
       "206614                  NaN                     NaN                  NaN  \n",
       "215845                  NaN                     NaN                  NaN  \n",
       "\n",
       "[5 rows x 32 columns]"
      ]
     },
     "execution_count": 38,
     "metadata": {},
     "output_type": "execute_result"
    }
   ],
   "source": [
    "train_df.head()"
   ]
  },
  {
   "cell_type": "code",
   "execution_count": 43,
   "metadata": {},
   "outputs": [
    {
     "name": "stdout",
     "output_type": "stream",
     "text": [
      "<class 'pandas.core.frame.DataFrame'>\n",
      "Int64Index: 483851 entries, 582890 to 121958\n",
      "Data columns (total 32 columns):\n",
      " #   Column                     Non-Null Count   Dtype         \n",
      "---  ------                     --------------   -----         \n",
      " 0   Unnamed: 0                 483851 non-null  int64         \n",
      " 1   Longitude (x)              483851 non-null  float64       \n",
      " 2   Latitude (y)               483851 non-null  float64       \n",
      " 3   Station Name               483851 non-null  object        \n",
      " 4   Climate ID                 483851 non-null  object        \n",
      " 5   Date/Time                  483851 non-null  datetime64[ns]\n",
      " 6   Year                       483851 non-null  int64         \n",
      " 7   Month                      483851 non-null  int64         \n",
      " 8   Day                        483851 non-null  int64         \n",
      " 9   Data Quality               27373 non-null   object        \n",
      " 10  Max Temp (°C)              163656 non-null  float64       \n",
      " 11  Max Temp Flag              9867 non-null    object        \n",
      " 12  Min Temp (°C)              163564 non-null  float64       \n",
      " 13  Min Temp Flag              10120 non-null   object        \n",
      " 14  Mean Temp (°C)             161008 non-null  float64       \n",
      " 15  Mean Temp Flag             11675 non-null   object        \n",
      " 16  Heat Deg Days (°C)         161008 non-null  float64       \n",
      " 17  Heat Deg Days Flag         11675 non-null   object        \n",
      " 18  Cool Deg Days (°C)         161008 non-null  float64       \n",
      " 19  Cool Deg Days Flag         11675 non-null   object        \n",
      " 20  Total Rain (mm)            210943 non-null  float64       \n",
      " 21  Total Rain Flag            20281 non-null   object        \n",
      " 22  Total Snow (cm)            212639 non-null  float64       \n",
      " 23  Total Snow Flag            13870 non-null   object        \n",
      " 24  Total Precip (mm)          225135 non-null  float64       \n",
      " 25  Total Precip Flag          24035 non-null   object        \n",
      " 26  Snow on Grnd (cm)          112640 non-null  float64       \n",
      " 27  Snow on Grnd Flag          11311 non-null   object        \n",
      " 28  Dir of Max Gust (10s deg)  9210 non-null    float64       \n",
      " 29  Dir of Max Gust Flag       4352 non-null    object        \n",
      " 30  Spd of Max Gust (km/h)     12356 non-null   object        \n",
      " 31  Spd of Max Gust Flag       4348 non-null    object        \n",
      "dtypes: datetime64[ns](1), float64(12), int64(4), object(15)\n",
      "memory usage: 121.8+ MB\n"
     ]
    }
   ],
   "source": [
    "train_df.info()"
   ]
  },
  {
   "cell_type": "markdown",
   "metadata": {},
   "source": [
    "- drop unnamed: 0, station_name, date/time, year, Data Quality, max temp flag, min temp flag, mean temp flag, heat deg days (both), cool deg days (both), total rain flag, total snow flag, total precip flag, snow on grnd flag, spd of max gust (both)"
   ]
  },
  {
   "cell_type": "code",
   "execution_count": 42,
   "metadata": {},
   "outputs": [
    {
     "data": {
      "text/plain": [
       "array([nan, 'E', 'M'], dtype=object)"
      ]
     },
     "execution_count": 42,
     "metadata": {},
     "output_type": "execute_result"
    }
   ],
   "source": [
    "train_df['Spd of Max Gust Flag'].unique()"
   ]
  },
  {
   "cell_type": "code",
   "execution_count": null,
   "metadata": {},
   "outputs": [],
   "source": [
    "drop_features = ['Unnamed: 0', 'Station Name', 'Date/Time', 'Year', 'Data Quality', 'Max Temp Flag', 'Min Temp Flag', 'Mean Temp Flag', 'Heat Deg Days (°C)', 'Heat Deg Days Flag', 'Cool Deg Days (°C)', 'Cool Deg Days Flag', 'Total Rain Flag', 'Total Snow Flag', 'Total Precip Flag', '']"
   ]
  }
 ],
 "metadata": {
  "kernelspec": {
   "display_name": "Python 3.10.0 ('.venv': venv)",
   "language": "python",
   "name": "python3"
  },
  "language_info": {
   "codemirror_mode": {
    "name": "ipython",
    "version": 3
   },
   "file_extension": ".py",
   "mimetype": "text/x-python",
   "name": "python",
   "nbconvert_exporter": "python",
   "pygments_lexer": "ipython3",
   "version": "3.10.0"
  },
  "orig_nbformat": 4,
  "vscode": {
   "interpreter": {
    "hash": "8c06699b9360c123924967376b47382653d13c7ab787ae5282f144258fe56ea2"
   }
  }
 },
 "nbformat": 4,
 "nbformat_minor": 2
}
